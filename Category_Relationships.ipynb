{
 "cells": [
  {
   "cell_type": "code",
   "execution_count": 41,
   "metadata": {
    "collapsed": false
   },
   "outputs": [],
   "source": [
    "__author__ = 'Manu'\n",
    "\n",
    "from collections import Counter\n",
    "from itertools import combinations\n",
    "from itertools import permutations\n",
    "import operator\n",
    "import simplejson as json\n",
    "from math import log\n"
   ]
  },
  {
   "cell_type": "code",
   "execution_count": 42,
   "metadata": {
    "collapsed": false
   },
   "outputs": [],
   "source": [
    "\n",
    "''' Changing filenames to variables\"'''\n",
    "\n",
    "business = \"yelp_academic_dataset_business.json\"\n",
    "checkin =\"yelp_academic_dataset_checkin.json\"\n",
    "review = \"yelp_academic_dataset_review.json\"\n",
    "tip  = \"yelp_academic_dataset_tip.json\"\n",
    "user  = \"yelp_academic_dataset_user.json\"\n",
    "\n",
    "\n"
   ]
  },
  {
   "cell_type": "code",
   "execution_count": 43,
   "metadata": {
    "collapsed": false
   },
   "outputs": [],
   "source": [
    "''' categoryCount keeps track of number of businesses in each category '''\n",
    "categoryCount = Counter()\n",
    "categoryRelationships = Counter()\n",
    "\n",
    "\n",
    "with open(business,\"r\") as bizFile,open(\"categories\",\"w\") as output:\n",
    "    for line in bizFile:\n",
    "        string = json.loads(line)\n",
    "        categories = string['categories']\n",
    "        output.write(str(categories)+\"\\n\")\n",
    "        #x = combinations(categories, 2)\n",
    "        x = permutations(categories, 2)\n",
    "        for i in x:\n",
    "            categoryRelationships.update((i,))\n",
    "        for category in categories:\n",
    "            categoryCount.update((category,))\n",
    "\n",
    "\n"
   ]
  },
  {
   "cell_type": "code",
   "execution_count": 44,
   "metadata": {
    "collapsed": true
   },
   "outputs": [],
   "source": [
    "with open(\"categoryCountFile\",\"w\") as output:\n",
    "    for key,value in categoryCount.items():\n",
    "        val =  key + \"\\t\" + str(value) + \"\\n\"\n",
    "        output.write (val)\n",
    "\n",
    "# Relationships between two categories\n",
    "#categoryRelationships = categoryRelationships.most_common()\n",
    "with open(\"categoryRelationships\", \"w\") as output:\n",
    "    for item in categoryRelationships:\n",
    "        val = str(item[0]) + \"\\t\" + str(item[1]) + \"\\n\"\n",
    "        output.write(val)\n",
    "\n",
    "\n",
    "\n",
    "\n"
   ]
  },
  {
   "cell_type": "code",
   "execution_count": 53,
   "metadata": {
    "collapsed": false
   },
   "outputs": [],
   "source": [
    "pmi = {}\n",
    "for key,value in categoryRelationships.items():\n",
    "    #print categoryCount[key[0]],categoryCount[key[1]]\n",
    "    mult = float(categoryCount[key[0]]) * float(categoryCount[key[1]])\n",
    "    pmi[key] = log(value/mult,2)\n",
    "\n",
    "sorted_pmi = sorted(pmi.items(),key = lambda x : (x[0][1],x[1]))\n",
    "\n"
   ]
  },
  {
   "cell_type": "code",
   "execution_count": 54,
   "metadata": {
    "collapsed": false
   },
   "outputs": [
    {
     "name": "stdout",
     "output_type": "stream",
     "text": [
      "done\n"
     ]
    }
   ],
   "source": [
    "with open(\"category_relations.txt\",\"w\") as output:\n",
    "    for item in sorted_pmi:\n",
    "        line =  item[0][1] + \"\\t\" + item[0][0] + \"\\t\" + str(item[1]) + \"\\n\"\n",
    "        output.write(line)\n",
    "print \"done\""
   ]
  },
  {
   "cell_type": "code",
   "execution_count": null,
   "metadata": {
    "collapsed": true
   },
   "outputs": [],
   "source": []
  }
 ],
 "metadata": {
  "kernelspec": {
   "display_name": "Python 2",
   "language": "python",
   "name": "python2"
  },
  "language_info": {
   "codemirror_mode": {
    "name": "ipython",
    "version": 2
   },
   "file_extension": ".py",
   "mimetype": "text/x-python",
   "name": "python",
   "nbconvert_exporter": "python",
   "pygments_lexer": "ipython2",
   "version": "2.7.10"
  }
 },
 "nbformat": 4,
 "nbformat_minor": 0
}
